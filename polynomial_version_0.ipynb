{
 "cells": [
  {
   "cell_type": "code",
   "execution_count": 13,
   "id": "67b05a28",
   "metadata": {
    "ExecuteTime": {
     "end_time": "2022-06-17T13:12:10.591750Z",
     "start_time": "2022-06-17T13:12:10.581984Z"
    }
   },
   "outputs": [],
   "source": [
    "import pandas as pd\n",
    "from math import sqrt\n",
    "from pandas import DataFrame\n",
    "from pandas import concat\n",
    "from numpy import concatenate\n",
    "%matplotlib notebook\n",
    "import numpy as np\n",
    "import matplotlib.pyplot as plt\n",
    "import warnings\n",
    "warnings.filterwarnings('ignore')\n",
    "from sklearn.preprocessing import PolynomialFeatures\n",
    "from sklearn.linear_model import LinearRegression\n",
    "from sklearn.datasets import load_boston\n",
    "from sklearn.model_selection import train_test_split"
   ]
  },
  {
   "cell_type": "code",
   "execution_count": 7,
   "id": "2b0b4e2a",
   "metadata": {
    "ExecuteTime": {
     "end_time": "2022-06-17T13:02:57.570384Z",
     "start_time": "2022-06-17T13:02:57.432683Z"
    }
   },
   "outputs": [],
   "source": [
    "# ensure all data is float\n",
    "p1_2020 = pd.read_csv(\"2020.csv\", index_col = 0)\n",
    "p1_2021 = pd.read_csv(\"2021.csv\", index_col = 0)\n",
    "\n",
    "p1_2020_value = p1_2020.astype('float64')\n",
    "\n",
    "p1_2021_value = p1_2021.astype('float64')\n",
    "\n",
    "pd.set_option('display.max_columns',1000)\n",
    "pd.set_option('display.width', 1000)\n",
    "pd.set_option('display.max_colwidth',1000)"
   ]
  },
  {
   "cell_type": "code",
   "execution_count": 8,
   "id": "29dbe4cf",
   "metadata": {
    "ExecuteTime": {
     "end_time": "2022-06-17T13:03:00.356242Z",
     "start_time": "2022-06-17T13:03:00.335598Z"
    }
   },
   "outputs": [
    {
     "data": {
      "text/html": [
       "<div>\n",
       "<style scoped>\n",
       "    .dataframe tbody tr th:only-of-type {\n",
       "        vertical-align: middle;\n",
       "    }\n",
       "\n",
       "    .dataframe tbody tr th {\n",
       "        vertical-align: top;\n",
       "    }\n",
       "\n",
       "    .dataframe thead th {\n",
       "        text-align: right;\n",
       "    }\n",
       "</style>\n",
       "<table border=\"1\" class=\"dataframe\">\n",
       "  <thead>\n",
       "    <tr style=\"text-align: right;\">\n",
       "      <th></th>\n",
       "      <th>NB2_S_1_NYZ_sys_x_PcwOut_x</th>\n",
       "      <th>NB2_S_1_NYZ_sys_x_PcwIn_x</th>\n",
       "      <th>NB2_S_1_NYZ_cwp_9_HzSPR_x</th>\n",
       "      <th>NB2_S_1_NYZ_cwp_10_HzSPR_x</th>\n",
       "      <th>NB2_S_1_NYZ_cwp_11_HzSPR_x</th>\n",
       "      <th>NB2_S_1_NYZ_cwp_12_HzSPR_x</th>\n",
       "      <th>NB2_S_x_NYZ_x_x_Fcw_x</th>\n",
       "      <th>p_diff</th>\n",
       "    </tr>\n",
       "  </thead>\n",
       "  <tbody>\n",
       "    <tr>\n",
       "      <th>0</th>\n",
       "      <td>4.43</td>\n",
       "      <td>3.8194</td>\n",
       "      <td>0.0</td>\n",
       "      <td>0.0000</td>\n",
       "      <td>26.8020</td>\n",
       "      <td>26.8020</td>\n",
       "      <td>2038.37</td>\n",
       "      <td>0.6106</td>\n",
       "    </tr>\n",
       "    <tr>\n",
       "      <th>1</th>\n",
       "      <td>4.42</td>\n",
       "      <td>3.8281</td>\n",
       "      <td>0.0</td>\n",
       "      <td>0.0000</td>\n",
       "      <td>26.7771</td>\n",
       "      <td>26.7771</td>\n",
       "      <td>2038.37</td>\n",
       "      <td>0.5919</td>\n",
       "    </tr>\n",
       "    <tr>\n",
       "      <th>2</th>\n",
       "      <td>4.43</td>\n",
       "      <td>3.8194</td>\n",
       "      <td>0.0</td>\n",
       "      <td>0.0000</td>\n",
       "      <td>26.7873</td>\n",
       "      <td>26.7873</td>\n",
       "      <td>2038.37</td>\n",
       "      <td>0.6106</td>\n",
       "    </tr>\n",
       "    <tr>\n",
       "      <th>3</th>\n",
       "      <td>4.42</td>\n",
       "      <td>3.8108</td>\n",
       "      <td>0.0</td>\n",
       "      <td>0.0000</td>\n",
       "      <td>26.7825</td>\n",
       "      <td>26.7825</td>\n",
       "      <td>2041.04</td>\n",
       "      <td>0.6092</td>\n",
       "    </tr>\n",
       "    <tr>\n",
       "      <th>4</th>\n",
       "      <td>4.43</td>\n",
       "      <td>3.8281</td>\n",
       "      <td>0.0</td>\n",
       "      <td>0.0000</td>\n",
       "      <td>26.7585</td>\n",
       "      <td>26.7585</td>\n",
       "      <td>2041.04</td>\n",
       "      <td>0.6019</td>\n",
       "    </tr>\n",
       "    <tr>\n",
       "      <th>...</th>\n",
       "      <td>...</td>\n",
       "      <td>...</td>\n",
       "      <td>...</td>\n",
       "      <td>...</td>\n",
       "      <td>...</td>\n",
       "      <td>...</td>\n",
       "      <td>...</td>\n",
       "      <td>...</td>\n",
       "    </tr>\n",
       "    <tr>\n",
       "      <th>89275</th>\n",
       "      <td>5.16</td>\n",
       "      <td>4.3056</td>\n",
       "      <td>28.9</td>\n",
       "      <td>28.9094</td>\n",
       "      <td>28.9034</td>\n",
       "      <td>0.0000</td>\n",
       "      <td>3093.46</td>\n",
       "      <td>0.8544</td>\n",
       "    </tr>\n",
       "    <tr>\n",
       "      <th>89276</th>\n",
       "      <td>5.17</td>\n",
       "      <td>4.3142</td>\n",
       "      <td>28.9</td>\n",
       "      <td>28.9121</td>\n",
       "      <td>28.9105</td>\n",
       "      <td>0.0000</td>\n",
       "      <td>3067.41</td>\n",
       "      <td>0.8558</td>\n",
       "    </tr>\n",
       "    <tr>\n",
       "      <th>89277</th>\n",
       "      <td>5.16</td>\n",
       "      <td>4.3142</td>\n",
       "      <td>28.9</td>\n",
       "      <td>28.8927</td>\n",
       "      <td>28.8927</td>\n",
       "      <td>0.0000</td>\n",
       "      <td>3067.41</td>\n",
       "      <td>0.8458</td>\n",
       "    </tr>\n",
       "    <tr>\n",
       "      <th>89278</th>\n",
       "      <td>5.16</td>\n",
       "      <td>4.3056</td>\n",
       "      <td>28.9</td>\n",
       "      <td>28.8824</td>\n",
       "      <td>28.8824</td>\n",
       "      <td>0.0000</td>\n",
       "      <td>3067.41</td>\n",
       "      <td>0.8544</td>\n",
       "    </tr>\n",
       "    <tr>\n",
       "      <th>89279</th>\n",
       "      <td>5.16</td>\n",
       "      <td>4.2969</td>\n",
       "      <td>28.9</td>\n",
       "      <td>28.8825</td>\n",
       "      <td>28.8825</td>\n",
       "      <td>0.0000</td>\n",
       "      <td>3050.44</td>\n",
       "      <td>0.8631</td>\n",
       "    </tr>\n",
       "  </tbody>\n",
       "</table>\n",
       "<p>78187 rows × 8 columns</p>\n",
       "</div>"
      ],
      "text/plain": [
       "       NB2_S_1_NYZ_sys_x_PcwOut_x  NB2_S_1_NYZ_sys_x_PcwIn_x  NB2_S_1_NYZ_cwp_9_HzSPR_x  NB2_S_1_NYZ_cwp_10_HzSPR_x  NB2_S_1_NYZ_cwp_11_HzSPR_x  NB2_S_1_NYZ_cwp_12_HzSPR_x  NB2_S_x_NYZ_x_x_Fcw_x  p_diff\n",
       "0                            4.43                     3.8194                        0.0                      0.0000                     26.8020                     26.8020                2038.37  0.6106\n",
       "1                            4.42                     3.8281                        0.0                      0.0000                     26.7771                     26.7771                2038.37  0.5919\n",
       "2                            4.43                     3.8194                        0.0                      0.0000                     26.7873                     26.7873                2038.37  0.6106\n",
       "3                            4.42                     3.8108                        0.0                      0.0000                     26.7825                     26.7825                2041.04  0.6092\n",
       "4                            4.43                     3.8281                        0.0                      0.0000                     26.7585                     26.7585                2041.04  0.6019\n",
       "...                           ...                        ...                        ...                         ...                         ...                         ...                    ...     ...\n",
       "89275                        5.16                     4.3056                       28.9                     28.9094                     28.9034                      0.0000                3093.46  0.8544\n",
       "89276                        5.17                     4.3142                       28.9                     28.9121                     28.9105                      0.0000                3067.41  0.8558\n",
       "89277                        5.16                     4.3142                       28.9                     28.8927                     28.8927                      0.0000                3067.41  0.8458\n",
       "89278                        5.16                     4.3056                       28.9                     28.8824                     28.8824                      0.0000                3067.41  0.8544\n",
       "89279                        5.16                     4.2969                       28.9                     28.8825                     28.8825                      0.0000                3050.44  0.8631\n",
       "\n",
       "[78187 rows x 8 columns]"
      ]
     },
     "execution_count": 8,
     "metadata": {},
     "output_type": "execute_result"
    }
   ],
   "source": [
    "p1_2020_value"
   ]
  },
  {
   "cell_type": "code",
   "execution_count": 25,
   "id": "04fc26bb",
   "metadata": {
    "ExecuteTime": {
     "end_time": "2022-06-17T13:17:40.636276Z",
     "start_time": "2022-06-17T13:17:40.622028Z"
    }
   },
   "outputs": [],
   "source": [
    "Y_20 = p1_2020['NB2_S_x_NYZ_x_x_Fcw_x']\n",
    "X_20 = pd.DataFrame(np.c_[p1_2020_value['NB2_S_1_NYZ_sys_x_PcwOut_x'], p1_2020_value['NB2_S_1_NYZ_sys_x_PcwIn_x'], p1_2020_value['NB2_S_1_NYZ_cwp_9_HzSPR_x'], p1_2020_value['NB2_S_1_NYZ_cwp_10_HzSPR_x'], p1_2020_value['NB2_S_1_NYZ_cwp_11_HzSPR_x'], p1_2020_value['NB2_S_1_NYZ_cwp_12_HzSPR_x'], p1_2020_value['p_diff']], columns = ['NB2_S_1_NYZ_sys_x_PcwOut_x', 'NB2_S_1_NYZ_sys_x_PcwIn_x', 'NB2_S_1_NYZ_cwp_9_HzSPR_x', 'NB2_S_1_NYZ_cwp_10_HzSPR_x', 'NB2_S_1_NYZ_cwp_11_HzSPR_x', 'NB2_S_1_NYZ_cwp_12_HzSPR_x', 'diff'])\n",
    "test_Y = p1_2021['NB2_S_x_NYZ_x_x_Fcw_x']\n",
    "test_X = pd.DataFrame(np.c_[p1_2021_value['NB2_S_1_NYZ_sys_x_PcwOut_x'], p1_2021_value['NB2_S_1_NYZ_sys_x_PcwIn_x'], p1_2021_value['NB2_S_1_NYZ_cwp_9_HzSPR_x'], p1_2021_value['NB2_S_1_NYZ_cwp_10_HzSPR_x'], p1_2021_value['NB2_S_1_NYZ_cwp_11_HzSPR_x'],  p1_2021_value['NB2_S_1_NYZ_cwp_12_HzSPR_x'],  p1_2021_value['p_diff']], columns = ['NB2_S_1_NYZ_sys_x_PcwOut_x', 'NB2_S_1_NYZ_sys_x_PcwIn_x', 'NB2_S_1_NYZ_cwp_9_HzSPR_x', 'NB2_S_1_NYZ_cwp_10_HzSPR_x', 'NB2_S_1_NYZ_cwp_11_HzSPR_x', 'NB2_S_1_NYZ_cwp_12_HzSPR_x', 'diff'])\n"
   ]
  },
  {
   "cell_type": "code",
   "execution_count": 26,
   "id": "e366ef7f",
   "metadata": {
    "ExecuteTime": {
     "end_time": "2022-06-17T13:17:42.063506Z",
     "start_time": "2022-06-17T13:17:42.050877Z"
    }
   },
   "outputs": [],
   "source": [
    "x_train, x_val, y_train, y_val = train_test_split(X_20, Y_20, test_size = 0.3, random_state = 1)"
   ]
  },
  {
   "cell_type": "code",
   "execution_count": 56,
   "id": "5ddfe7e3",
   "metadata": {
    "ExecuteTime": {
     "end_time": "2022-06-22T02:33:23.432155Z",
     "start_time": "2022-06-22T02:33:23.253347Z"
    }
   },
   "outputs": [],
   "source": [
    "degree = 2\n",
    "polynomial_features = PolynomialFeatures(degree = degree)\n",
    "x_train_poly = polynomial_features.fit_transform(x_train)"
   ]
  },
  {
   "cell_type": "code",
   "execution_count": 57,
   "id": "6c71a16e",
   "metadata": {
    "ExecuteTime": {
     "end_time": "2022-06-22T02:33:24.959698Z",
     "start_time": "2022-06-22T02:33:24.926079Z"
    }
   },
   "outputs": [
    {
     "data": {
      "text/plain": [
       "array([[1.00000000e+00, 4.49000000e+00, 3.60240000e+00, ...,\n",
       "        8.71796486e+02, 2.62074551e+01, 7.87833760e-01],\n",
       "       [1.00000000e+00, 4.38000000e+00, 3.72400000e+00, ...,\n",
       "        6.76000000e+02, 1.70560000e+01, 4.30336000e-01],\n",
       "       [1.00000000e+00, 4.19000000e+00, 3.29860000e+00, ...,\n",
       "        0.00000000e+00, 0.00000000e+00, 7.94593960e-01],\n",
       "       ...,\n",
       "       [1.00000000e+00, 4.68000000e+00, 3.68060000e+00, ...,\n",
       "        7.84000000e+02, 2.79832000e+01, 9.98800360e-01],\n",
       "       [1.00000000e+00, 4.14000000e+00, 3.19440000e+00, ...,\n",
       "        7.84000000e+02, 2.64768000e+01, 8.94159360e-01],\n",
       "       [1.00000000e+00, 4.69000000e+00, 3.58510000e+00, ...,\n",
       "        7.42202844e+02, 3.01012327e+01, 1.22080401e+00]])"
      ]
     },
     "execution_count": 57,
     "metadata": {},
     "output_type": "execute_result"
    }
   ],
   "source": [
    "x_train_poly"
   ]
  },
  {
   "cell_type": "code",
   "execution_count": 58,
   "id": "eee964dd",
   "metadata": {
    "ExecuteTime": {
     "end_time": "2022-06-22T02:33:26.939039Z",
     "start_time": "2022-06-22T02:33:26.915102Z"
    },
    "scrolled": false
   },
   "outputs": [
    {
     "data": {
      "text/plain": [
       "['1',\n",
       " 'x0',\n",
       " 'x1',\n",
       " 'x2',\n",
       " 'x3',\n",
       " 'x4',\n",
       " 'x5',\n",
       " 'x6',\n",
       " 'x0^2',\n",
       " 'x0 x1',\n",
       " 'x0 x2',\n",
       " 'x0 x3',\n",
       " 'x0 x4',\n",
       " 'x0 x5',\n",
       " 'x0 x6',\n",
       " 'x1^2',\n",
       " 'x1 x2',\n",
       " 'x1 x3',\n",
       " 'x1 x4',\n",
       " 'x1 x5',\n",
       " 'x1 x6',\n",
       " 'x2^2',\n",
       " 'x2 x3',\n",
       " 'x2 x4',\n",
       " 'x2 x5',\n",
       " 'x2 x6',\n",
       " 'x3^2',\n",
       " 'x3 x4',\n",
       " 'x3 x5',\n",
       " 'x3 x6',\n",
       " 'x4^2',\n",
       " 'x4 x5',\n",
       " 'x4 x6',\n",
       " 'x5^2',\n",
       " 'x5 x6',\n",
       " 'x6^2']"
      ]
     },
     "execution_count": 58,
     "metadata": {},
     "output_type": "execute_result"
    }
   ],
   "source": [
    "polynomial_features.get_feature_names()"
   ]
  },
  {
   "cell_type": "code",
   "execution_count": 59,
   "id": "5e579ad6",
   "metadata": {
    "ExecuteTime": {
     "end_time": "2022-06-22T02:33:32.143181Z",
     "start_time": "2022-06-22T02:33:31.908101Z"
    }
   },
   "outputs": [
    {
     "name": "stdout",
     "output_type": "stream",
     "text": [
      "R2: 0.9820\n"
     ]
    }
   ],
   "source": [
    "model = LinearRegression()\n",
    "model.fit(x_train_poly, y_train)\n",
    "x_val_poly = polynomial_features.fit_transform(x_val)\n",
    "\n",
    "print('R2: %.4f' %model.score(x_val_poly, y_val))"
   ]
  },
  {
   "cell_type": "code",
   "execution_count": 60,
   "id": "cff6d5e4",
   "metadata": {
    "ExecuteTime": {
     "end_time": "2022-06-22T02:33:34.736116Z",
     "start_time": "2022-06-22T02:33:34.679761Z"
    }
   },
   "outputs": [
    {
     "name": "stdout",
     "output_type": "stream",
     "text": [
      "R2: -6792570398403.3301\n"
     ]
    }
   ],
   "source": [
    "x_test_poly = polynomial_features.fit_transform(test_X)\n",
    "print('R2: %.4f' %model.score(x_test_poly, test_Y))"
   ]
  }
 ],
 "metadata": {
  "kernelspec": {
   "display_name": "Python 3 (ipykernel)",
   "language": "python",
   "name": "python3"
  },
  "language_info": {
   "codemirror_mode": {
    "name": "ipython",
    "version": 3
   },
   "file_extension": ".py",
   "mimetype": "text/x-python",
   "name": "python",
   "nbconvert_exporter": "python",
   "pygments_lexer": "ipython3",
   "version": "3.9.7"
  }
 },
 "nbformat": 4,
 "nbformat_minor": 5
}
